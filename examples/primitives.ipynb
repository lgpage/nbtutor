{
 "cells": [
  {
   "cell_type": "code",
   "execution_count": null,
   "metadata": {},
   "outputs": [],
   "source": [
    "%reload_ext nbtutor"
   ]
  },
  {
   "cell_type": "code",
   "execution_count": null,
   "metadata": {},
   "outputs": [],
   "source": [
    "%%nbtutor -r -f\n",
    "bool_obj = False\n",
    "none_obj = None\n",
    "\n",
    "int_obj = 100\n",
    "float_obj = 12.325900\n",
    "float_obj_nan = float('NaN')\n",
    "float_obj_inf = float('inf')\n",
    "complex_obj = 12+2j\n",
    "real = complex_obj.real\n",
    "imag = complex_obj.imag\n",
    "\n",
    "bin_obj = bin(30)\n",
    "\n",
    "str_obj_one = 'Hi'\n",
    "str_obj_two = \"\"\"Hello\n",
    "World\"\"\"\n",
    "str_obj_three = u\"Άλφα Álpha\"\n",
    "\n",
    "# Check aliasing\n",
    "foo = int_obj\n",
    "bar = int_obj\n",
    "pass"
   ]
  },
  {
   "cell_type": "code",
   "execution_count": null,
   "metadata": {},
   "outputs": [],
   "source": [
    "%%nbtutor -r -f\n",
    "bool_obj = False\n",
    "none_obj = None\n",
    "\n",
    "\n",
    "\n",
    "\n",
    "pass\n",
    "\n",
    "\n",
    "pass\n",
    "\n",
    "pass\n",
    "\n",
    "\n",
    "str_obj_one = 'Hi'\n",
    "str_obj_two = \"\"\"Hello\n",
    "World\"\"\"\n",
    "str_obj_three = u\"Άλφα Álpha\"\n"
   ]
  },
  {
   "cell_type": "code",
   "execution_count": null,
   "metadata": {},
   "outputs": [],
   "source": []
  }
 ],
 "metadata": {
  "anaconda-cloud": {},
  "celltoolbar": "Visualize",
  "kernelspec": {
   "display_name": "Python 3",
   "language": "python",
   "name": "python3"
  },
  "language_info": {
   "codemirror_mode": {
    "name": "ipython",
    "version": 3
   },
   "file_extension": ".py",
   "mimetype": "text/x-python",
   "name": "python",
   "nbconvert_exporter": "python",
   "pygments_lexer": "ipython3",
   "version": "3.8.2"
  }
 },
 "nbformat": 4,
 "nbformat_minor": 1
}
