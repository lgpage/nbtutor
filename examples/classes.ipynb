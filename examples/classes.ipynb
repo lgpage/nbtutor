{
 "cells": [
  {
   "cell_type": "code",
   "execution_count": null,
   "metadata": {},
   "outputs": [],
   "source": [
    "%reload_ext nbtutor"
   ]
  },
  {
   "cell_type": "code",
   "execution_count": null,
   "metadata": {},
   "outputs": [],
   "source": [
    "%%nbtutor -r -f\n",
    "class Foo(object):\n",
    "    two_default = 3.2\n",
    "    \n",
    "    def __init__(self, one, two=None):\n",
    "        self.one = one\n",
    "        self.two = two\n",
    "        if two is None:\n",
    "            self.two = self.two_default\n",
    "    \n",
    "    def bar(self, eggs):\n",
    "        self.two = self.one * eggs\n",
    "        return self.two\n",
    "\n",
    "\n",
    "foo = Foo(10)\n",
    "ans = foo.bar(100)"
   ]
  },
  {
   "cell_type": "code",
   "execution_count": null,
   "metadata": {},
   "outputs": [],
   "source": [
    "%%nbtutor -r -f -d 5\n",
    "class Base(object):\n",
    "    def __init__(self, one):\n",
    "        self.one = one\n",
    "\n",
    "class Foo(Base):\n",
    "    def __init__(self, one, two):\n",
    "        super(Foo, self).__init__(one)\n",
    "        self.two = two\n",
    "\n",
    "\n",
    "foo = Foo(10, 20)"
   ]
  },
  {
   "cell_type": "code",
   "execution_count": null,
   "metadata": {},
   "outputs": [],
   "source": []
  }
 ],
 "metadata": {
  "anaconda-cloud": {},
  "celltoolbar": "Visualize",
  "kernelspec": {
   "display_name": "Python 3",
   "language": "python",
   "name": "python3"
  },
  "language_info": {
   "codemirror_mode": {
    "name": "ipython",
    "version": 3
   },
   "file_extension": ".py",
   "mimetype": "text/x-python",
   "name": "python",
   "nbconvert_exporter": "python",
   "pygments_lexer": "ipython3",
   "version": "3.8.2"
  }
 },
 "nbformat": 4,
 "nbformat_minor": 1
}
