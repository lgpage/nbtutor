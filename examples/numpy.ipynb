{
 "cells": [
  {
   "cell_type": "code",
   "execution_count": null,
   "metadata": {},
   "outputs": [],
   "source": [
    "%reload_ext nbtutor"
   ]
  },
  {
   "cell_type": "code",
   "execution_count": null,
   "metadata": {},
   "outputs": [],
   "source": [
    "%%nbtutor -r -f\n",
    "import numpy as np\n",
    "\n",
    "foo = np.zeros(10)\n",
    "foo[1] = 10"
   ]
  },
  {
   "cell_type": "code",
   "execution_count": null,
   "metadata": {},
   "outputs": [],
   "source": [
    "%%nbtutor -r -f --expand_arrays\n",
    "import numpy as np\n",
    "\n",
    "foo = np.zeros(10)\n",
    "foo[1] = 10"
   ]
  },
  {
   "cell_type": "code",
   "execution_count": null,
   "metadata": {},
   "outputs": [],
   "source": [
    "%%nbtutor -r -f\n",
    "import numpy as np\n",
    "\n",
    "foo = np.zeros(10)\n",
    "bar = foo[1:3]\n",
    "foo[1] = 10  # Note both change"
   ]
  },
  {
   "cell_type": "code",
   "execution_count": null,
   "metadata": {},
   "outputs": [],
   "source": [
    "%%nbtutor -r -f\n",
    "import numpy as np\n",
    "\n",
    "foo = np.zeros(10)\n",
    "bar = foo[[1, 3]]\n",
    "foo[1] = 10  # Note only 1 changes"
   ]
  },
  {
   "cell_type": "code",
   "execution_count": null,
   "metadata": {},
   "outputs": [],
   "source": [
    "%%nbtutor -r -f\n",
    "import numpy as np\n",
    "\n",
    "foo = np.zeros((5, 5))\n",
    "foo[0, 1] = 10"
   ]
  },
  {
   "cell_type": "code",
   "execution_count": null,
   "metadata": {},
   "outputs": [],
   "source": []
  }
 ],
 "metadata": {
  "celltoolbar": "Visualize",
  "kernelspec": {
   "display_name": "Python 3",
   "language": "python",
   "name": "python3"
  },
  "language_info": {
   "codemirror_mode": {
    "name": "ipython",
    "version": 3
   },
   "file_extension": ".py",
   "mimetype": "text/x-python",
   "name": "python",
   "nbconvert_exporter": "python",
   "pygments_lexer": "ipython3",
   "version": "3.8.2"
  }
 },
 "nbformat": 4,
 "nbformat_minor": 1
}
